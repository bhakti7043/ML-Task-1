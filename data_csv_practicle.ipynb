{
 "cells": [
  {
   "cell_type": "code",
   "execution_count": 1,
   "id": "27b02c13-d0cc-4318-bb96-cab75594a052",
   "metadata": {},
   "outputs": [],
   "source": [
    "import pandas as pd\n",
    "\n",
    "# Load the CSV\n",
    "df = pd.read_csv('data.csv')\n",
    "\n",
    "# Rename the column\n",
    "df.rename(columns={'Country': 'Country_n'}, inplace=True)\n",
    "\n",
    "# Save the updated DataFrame back to the CSV\n",
    "df.to_csv('data.csv', index=False)\n"
   ]
  },
  {
   "cell_type": "code",
   "execution_count": null,
   "id": "f52a1ce3-a76f-4c09-86de-48985587e607",
   "metadata": {},
   "outputs": [],
   "source": []
  },
  {
   "cell_type": "code",
   "execution_count": 2,
   "id": "8bfcc04f-9697-4ef8-83dc-fa26469c98b8",
   "metadata": {},
   "outputs": [
    {
     "name": "stdout",
     "output_type": "stream",
     "text": [
      "Index(['Country_n', 'Age', 'Salary', 'Purchased'], dtype='object')\n"
     ]
    }
   ],
   "source": []
  },
  {
   "cell_type": "code",
   "execution_count": 3,
   "id": "c47707ff-dbff-458f-aa56-d6f17689515c",
   "metadata": {},
   "outputs": [
    {
     "name": "stdout",
     "output_type": "stream",
     "text": [
      "data.csv has been emptied.\n"
     ]
    }
   ],
   "source": [
    "# This will clear the contents of data.csv\n",
    "open('data.csv', 'w').close()\n",
    "print(\"data.csv has been emptied.\")\n"
   ]
  },
  {
   "cell_type": "code",
   "execution_count": null,
   "id": "d99dbc52-5dab-423e-b6f3-b6509d754517",
   "metadata": {},
   "outputs": [],
   "source": [
    "# Save the updated DataFrame back to the CSV\n",
    "df.to_csv('data.csv', index=False)\n"
   ]
  },
  {
   "cell_type": "code",
   "execution_count": null,
   "id": "d0ff8d81-6bb9-410b-9584-18ef7a1afe3b",
   "metadata": {},
   "outputs": [],
   "source": []
  }
 ],
 "metadata": {
  "kernelspec": {
   "display_name": "Python 3 (ipykernel)",
   "language": "python",
   "name": "python3"
  },
  "language_info": {
   "codemirror_mode": {
    "name": "ipython",
    "version": 3
   },
   "file_extension": ".py",
   "mimetype": "text/x-python",
   "name": "python",
   "nbconvert_exporter": "python",
   "pygments_lexer": "ipython3",
   "version": "3.12.10"
  }
 },
 "nbformat": 4,
 "nbformat_minor": 5
}
